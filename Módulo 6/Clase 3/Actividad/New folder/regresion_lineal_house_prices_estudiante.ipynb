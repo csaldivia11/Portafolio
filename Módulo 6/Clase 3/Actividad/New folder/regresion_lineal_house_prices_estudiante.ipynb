{
  "cells": [
    {
      "cell_type": "markdown",
      "id": "b9829e71",
      "metadata": {
        "id": "b9829e71"
      },
      "source": [
        "#  ACTIVIDAD FORMATIVA – REGRESIÓN LINEAL CON DATOS DE VIVIENDAS\n",
        "\n",
        "## ¿Cuánto vale esta casa?\n",
        "Esta actividad te guiará paso a paso para construir y evaluar un modelo de regresión lineal que prediga el precio de una casa en base a sus características. Usa este cuaderno para ejecutar código, responder preguntas y entregar tus resultados."
      ]
    },
    {
      "cell_type": "markdown",
      "id": "512e9974",
      "metadata": {
        "id": "512e9974"
      },
      "source": [
        "## ✅ Paso 1: Cargar el dataset\n",
        "\n",
        "Cargar el archivo `house_prices.csv` con las siguientes columnas: `Home`, `Price`, `SqFt`, `Bedrooms`, `Bathrooms`, `Offers`, `Brick`, `Neighborhood`."
      ]
    },
    {
      "cell_type": "code",
      "execution_count": null,
      "id": "d7a325cb",
      "metadata": {
        "colab": {
          "base_uri": "https://localhost:8080/",
          "height": 74
        },
        "id": "d7a325cb",
        "outputId": "57721eaf-ab0f-47e6-f30d-2c1ab8069fe3"
      },
      "outputs": [
        {
          "output_type": "display_data",
          "data": {
            "text/plain": [
              "<IPython.core.display.HTML object>"
            ],
            "text/html": [
              "\n",
              "     <input type=\"file\" id=\"files-0e601ca5-0df3-4703-b899-ec8236203a4c\" name=\"files[]\" multiple disabled\n",
              "        style=\"border:none\" />\n",
              "     <output id=\"result-0e601ca5-0df3-4703-b899-ec8236203a4c\">\n",
              "      Upload widget is only available when the cell has been executed in the\n",
              "      current browser session. Please rerun this cell to enable.\n",
              "      </output>\n",
              "      <script>// Copyright 2017 Google LLC\n",
              "//\n",
              "// Licensed under the Apache License, Version 2.0 (the \"License\");\n",
              "// you may not use this file except in compliance with the License.\n",
              "// You may obtain a copy of the License at\n",
              "//\n",
              "//      http://www.apache.org/licenses/LICENSE-2.0\n",
              "//\n",
              "// Unless required by applicable law or agreed to in writing, software\n",
              "// distributed under the License is distributed on an \"AS IS\" BASIS,\n",
              "// WITHOUT WARRANTIES OR CONDITIONS OF ANY KIND, either express or implied.\n",
              "// See the License for the specific language governing permissions and\n",
              "// limitations under the License.\n",
              "\n",
              "/**\n",
              " * @fileoverview Helpers for google.colab Python module.\n",
              " */\n",
              "(function(scope) {\n",
              "function span(text, styleAttributes = {}) {\n",
              "  const element = document.createElement('span');\n",
              "  element.textContent = text;\n",
              "  for (const key of Object.keys(styleAttributes)) {\n",
              "    element.style[key] = styleAttributes[key];\n",
              "  }\n",
              "  return element;\n",
              "}\n",
              "\n",
              "// Max number of bytes which will be uploaded at a time.\n",
              "const MAX_PAYLOAD_SIZE = 100 * 1024;\n",
              "\n",
              "function _uploadFiles(inputId, outputId) {\n",
              "  const steps = uploadFilesStep(inputId, outputId);\n",
              "  const outputElement = document.getElementById(outputId);\n",
              "  // Cache steps on the outputElement to make it available for the next call\n",
              "  // to uploadFilesContinue from Python.\n",
              "  outputElement.steps = steps;\n",
              "\n",
              "  return _uploadFilesContinue(outputId);\n",
              "}\n",
              "\n",
              "// This is roughly an async generator (not supported in the browser yet),\n",
              "// where there are multiple asynchronous steps and the Python side is going\n",
              "// to poll for completion of each step.\n",
              "// This uses a Promise to block the python side on completion of each step,\n",
              "// then passes the result of the previous step as the input to the next step.\n",
              "function _uploadFilesContinue(outputId) {\n",
              "  const outputElement = document.getElementById(outputId);\n",
              "  const steps = outputElement.steps;\n",
              "\n",
              "  const next = steps.next(outputElement.lastPromiseValue);\n",
              "  return Promise.resolve(next.value.promise).then((value) => {\n",
              "    // Cache the last promise value to make it available to the next\n",
              "    // step of the generator.\n",
              "    outputElement.lastPromiseValue = value;\n",
              "    return next.value.response;\n",
              "  });\n",
              "}\n",
              "\n",
              "/**\n",
              " * Generator function which is called between each async step of the upload\n",
              " * process.\n",
              " * @param {string} inputId Element ID of the input file picker element.\n",
              " * @param {string} outputId Element ID of the output display.\n",
              " * @return {!Iterable<!Object>} Iterable of next steps.\n",
              " */\n",
              "function* uploadFilesStep(inputId, outputId) {\n",
              "  const inputElement = document.getElementById(inputId);\n",
              "  inputElement.disabled = false;\n",
              "\n",
              "  const outputElement = document.getElementById(outputId);\n",
              "  outputElement.innerHTML = '';\n",
              "\n",
              "  const pickedPromise = new Promise((resolve) => {\n",
              "    inputElement.addEventListener('change', (e) => {\n",
              "      resolve(e.target.files);\n",
              "    });\n",
              "  });\n",
              "\n",
              "  const cancel = document.createElement('button');\n",
              "  inputElement.parentElement.appendChild(cancel);\n",
              "  cancel.textContent = 'Cancel upload';\n",
              "  const cancelPromise = new Promise((resolve) => {\n",
              "    cancel.onclick = () => {\n",
              "      resolve(null);\n",
              "    };\n",
              "  });\n",
              "\n",
              "  // Wait for the user to pick the files.\n",
              "  const files = yield {\n",
              "    promise: Promise.race([pickedPromise, cancelPromise]),\n",
              "    response: {\n",
              "      action: 'starting',\n",
              "    }\n",
              "  };\n",
              "\n",
              "  cancel.remove();\n",
              "\n",
              "  // Disable the input element since further picks are not allowed.\n",
              "  inputElement.disabled = true;\n",
              "\n",
              "  if (!files) {\n",
              "    return {\n",
              "      response: {\n",
              "        action: 'complete',\n",
              "      }\n",
              "    };\n",
              "  }\n",
              "\n",
              "  for (const file of files) {\n",
              "    const li = document.createElement('li');\n",
              "    li.append(span(file.name, {fontWeight: 'bold'}));\n",
              "    li.append(span(\n",
              "        `(${file.type || 'n/a'}) - ${file.size} bytes, ` +\n",
              "        `last modified: ${\n",
              "            file.lastModifiedDate ? file.lastModifiedDate.toLocaleDateString() :\n",
              "                                    'n/a'} - `));\n",
              "    const percent = span('0% done');\n",
              "    li.appendChild(percent);\n",
              "\n",
              "    outputElement.appendChild(li);\n",
              "\n",
              "    const fileDataPromise = new Promise((resolve) => {\n",
              "      const reader = new FileReader();\n",
              "      reader.onload = (e) => {\n",
              "        resolve(e.target.result);\n",
              "      };\n",
              "      reader.readAsArrayBuffer(file);\n",
              "    });\n",
              "    // Wait for the data to be ready.\n",
              "    let fileData = yield {\n",
              "      promise: fileDataPromise,\n",
              "      response: {\n",
              "        action: 'continue',\n",
              "      }\n",
              "    };\n",
              "\n",
              "    // Use a chunked sending to avoid message size limits. See b/62115660.\n",
              "    let position = 0;\n",
              "    do {\n",
              "      const length = Math.min(fileData.byteLength - position, MAX_PAYLOAD_SIZE);\n",
              "      const chunk = new Uint8Array(fileData, position, length);\n",
              "      position += length;\n",
              "\n",
              "      const base64 = btoa(String.fromCharCode.apply(null, chunk));\n",
              "      yield {\n",
              "        response: {\n",
              "          action: 'append',\n",
              "          file: file.name,\n",
              "          data: base64,\n",
              "        },\n",
              "      };\n",
              "\n",
              "      let percentDone = fileData.byteLength === 0 ?\n",
              "          100 :\n",
              "          Math.round((position / fileData.byteLength) * 100);\n",
              "      percent.textContent = `${percentDone}% done`;\n",
              "\n",
              "    } while (position < fileData.byteLength);\n",
              "  }\n",
              "\n",
              "  // All done.\n",
              "  yield {\n",
              "    response: {\n",
              "      action: 'complete',\n",
              "    }\n",
              "  };\n",
              "}\n",
              "\n",
              "scope.google = scope.google || {};\n",
              "scope.google.colab = scope.google.colab || {};\n",
              "scope.google.colab._files = {\n",
              "  _uploadFiles,\n",
              "  _uploadFilesContinue,\n",
              "};\n",
              "})(self);\n",
              "</script> "
            ]
          },
          "metadata": {}
        },
        {
          "output_type": "stream",
          "name": "stdout",
          "text": [
            "Saving house-prices.csv to house-prices (4).csv\n"
          ]
        }
      ],
      "source": [
        "# Paso 1: Subir el archivo CSV desde tu computador\n",
        "from google.colab import files\n",
        "uploaded = files.upload()  # Se abrirá un cuadro para seleccionar el archivo local (ej. precios_casas.csv)\n",
        "\n",
        "# Paso 2: Importar librerías necesarias\n",
        "from sklearn.linear_model import LinearRegression\n",
        "from sklearn.model_selection import train_test_split\n",
        "import pandas as pd\n",
        "\n",
        "# Paso 3: Leer el archivo subido\n",
        "df = pd.read_csv(\"house-prices.csv\")"
      ]
    },
    {
      "cell_type": "markdown",
      "id": "e4a76eed",
      "metadata": {
        "id": "e4a76eed"
      },
      "source": [
        "## Paso 2: Selección de variables y partición\n",
        "\n",
        "Vamos a usar `SqFt` como variable predictora (tamaño en pies cuadrados) y `Price` como variable objetivo (precio)."
      ]
    },
    {
      "cell_type": "code",
      "execution_count": null,
      "id": "da6783b5",
      "metadata": {
        "id": "da6783b5"
      },
      "outputs": [],
      "source": [
        "from sklearn.model_selection import train_test_split\n",
        "\n",
        "# Definir X e y\n",
        "# INGRESA TU CODIGO ACÁ\n",
        "\n",
        "\n",
        "# Dividir en entrenamiento y prueba\n",
        "# INGRESA TU CODIGO ACÁ"
      ]
    },
    {
      "cell_type": "markdown",
      "id": "8a579bdf",
      "metadata": {
        "id": "8a579bdf"
      },
      "source": [
        "## Paso 3: Entrenamiento del modelo"
      ]
    },
    {
      "cell_type": "code",
      "execution_count": null,
      "id": "9b2fcb39",
      "metadata": {
        "id": "9b2fcb39"
      },
      "outputs": [],
      "source": [
        "from sklearn.linear_model import LinearRegression\n",
        "\n",
        "# Instanciar y entrenar el modelo\n",
        "# INGRESA TU CODIGO ACÁ\n",
        "\n",
        "# Realizar predicciones\n",
        "# INGRESA TU CODIGO ACÁ"
      ]
    },
    {
      "cell_type": "markdown",
      "id": "e7eaddd9",
      "metadata": {
        "id": "e7eaddd9"
      },
      "source": [
        "## 📈 Paso 4: Visualización de la recta de regresión"
      ]
    },
    {
      "cell_type": "code",
      "execution_count": null,
      "id": "c9c11d4b",
      "metadata": {
        "colab": {
          "base_uri": "https://localhost:8080/",
          "height": 472
        },
        "id": "c9c11d4b",
        "outputId": "6cfc5393-8074-4d95-e46a-e0afd509aa93"
      },
      "outputs": [
        {
          "output_type": "display_data",
          "data": {
            "text/plain": [
              "<Figure size 640x480 with 1 Axes>"
            ],
            "image/png": "[encoded data removed]"
          },
          "metadata": {}
        }
      ],
      "source": [
        "import matplotlib.pyplot as plt\n",
        "\n",
        "plt.scatter(X_test, y_test, color='gray', alpha=0.6, label='Datos reales')\n",
        "plt.plot(X_test, y_pred, color='red', label='Línea de regresión')\n",
        "plt.title(\"Precio vs Tamaño en pies cuadrados\")\n",
        "plt.xlabel(\"SqFt\")\n",
        "plt.ylabel(\"Price\")\n",
        "plt.legend()\n",
        "plt.grid(True)\n",
        "plt.show()"
      ]
    },
    {
      "cell_type": "markdown",
      "id": "75bc31c1",
      "metadata": {
        "id": "75bc31c1"
      },
      "source": [
        "##  Paso 5: Cálculo de métricas"
      ]
    },
    {
      "cell_type": "code",
      "execution_count": null,
      "id": "949e3cc0",
      "metadata": {
        "colab": {
          "base_uri": "https://localhost:8080/"
        },
        "id": "949e3cc0",
        "outputId": "920d0877-99b4-46d5-d1c3-b11b9540b4b0"
      },
      "outputs": [
        {
          "output_type": "stream",
          "name": "stdout",
          "text": [
            "Evaluación del modelo:\n",
            "MAE :  15,946\n",
            "MSE :  415,765,841\n",
            "RMSE:  20,390\n",
            "R²  :  0.295\n"
          ]
        }
      ],
      "source": [
        "# Importar funciones para calcular métricas de evaluación de modelos\n",
        "from sklearn.metrics import mean_absolute_error, mean_squared_error, r2_score\n",
        "import numpy as np  # Para operaciones numéricas como raíz cuadrada\n",
        "\n",
        "# Calcular el error absoluto medio (MAE): promedio de las diferencias absolutas entre predicción y valor real\n",
        "# INGRESA TU CODIGO ACÁ\n",
        "\n",
        "# Calcular el error cuadrático medio (MSE): promedio del cuadrado de las diferencias\n",
        "# INGRESA TU CODIGO ACÁ\n",
        "\n",
        "# Calcular la raíz cuadrada del MSE, es decir, RMSE\n",
        "# INGRESA TU CODIGO ACÁ\n",
        "\n",
        "# Calcular el coeficiente de determinación R²: mide qué tan bien el modelo explica la variabilidad de los datos\n",
        "# INGRESA TU CODIGO ACÁ\n",
        "\n",
        "# Mostrar los resultados de las métricas\n",
        "print(\"Evaluación del modelo:\")\n",
        "print(f\"MAE :  {mae:,.0f}\")       # Error promedio en unidades originales (por ejemplo, pesos o dólares)\n",
        "print(f\"MSE :  {mse:,.0f}\")       # Error promedio al cuadrado (magnifica errores grandes)\n",
        "print(f\"RMSE:  {rmse:,.0f}\")      # Similar al MAE pero penaliza más los errores grandes\n",
        "print(f\"R²  :  {r2:.3f}\")         # Valor entre 0 y 1 (o negativo si el modelo es muy malo)\n"
      ]
    },
    {
      "cell_type": "markdown",
      "id": "d91e1a2a",
      "metadata": {
        "id": "d91e1a2a"
      },
      "source": [
        "## Paso 6: Reflexión\n",
        "Responde con tus propias palabras:\n",
        "\n",
        "1. ¿Qué nos dice el MAE sobre el modelo?\n",
        "2. ¿Es útil el RMSE en este contexto? ¿Por qué?\n",
        "3. ¿Qué indica el valor de R² obtenido?\n",
        "4. ¿Qué observaste en el gráfico de dispersión?\n",
        "5. ¿Qué otras variables del dataset podrías incorporar para mejorar el modelo?\n",
        "\n",
        "✏️ Escribe tus respuestas aquí:"
      ]
    },
    {
      "cell_type": "code",
      "source": [],
      "metadata": {
        "id": "17jrKkBwjb14"
      },
      "id": "17jrKkBwjb14",
      "execution_count": null,
      "outputs": []
    }
  ],
  "metadata": {
    "colab": {
      "provenance": []
    },
    "language_info": {
      "name": "python"
    },
    "kernelspec": {
      "name": "python3",
      "display_name": "Python 3"
    }
  },
  "nbformat": 4,
  "nbformat_minor": 5
}