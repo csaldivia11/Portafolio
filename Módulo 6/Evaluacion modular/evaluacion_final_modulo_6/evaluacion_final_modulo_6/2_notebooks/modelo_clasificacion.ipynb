{
  "cells": [
    {
      "cell_type": "markdown",
      "metadata": {},
      "source": [
        "# \ud83d\udd0d Modelo de Clasificaci\u00f3n\n",
        "\n",
        "Este notebook implementa un modelo de clasificaci\u00f3n binaria. Objetivo sugerido: crear una variable `contrata_seguro` que indique si el costo (`charges`) supera un umbral, por ejemplo 10,000.\n",
        "\n",
        "## Pasos sugeridos:\n",
        "- Crear variable objetivo binaria (ej. `charges > 10000`)\n",
        "- Preprocesamiento (codificaci\u00f3n y escalado)\n",
        "- Entrenamiento (LogisticRegression, KNeighborsClassifier, etc.)\n",
        "- Validaci\u00f3n cruzada (Holdout/KFold)\n",
        "- Evaluaci\u00f3n con matriz de confusi\u00f3n, precisi\u00f3n, recall, ROC-AUC\n"
      ]
    }
  ],
  "metadata": {},
  "nbformat": 4,
  "nbformat_minor": 2
}