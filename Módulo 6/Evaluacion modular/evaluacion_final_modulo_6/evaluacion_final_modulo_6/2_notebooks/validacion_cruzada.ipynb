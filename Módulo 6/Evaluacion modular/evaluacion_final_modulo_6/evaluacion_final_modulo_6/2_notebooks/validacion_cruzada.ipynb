{
  "cells": [
    {
      "cell_type": "markdown",
      "metadata": {},
      "source": [
        "# \ud83d\udd01 Validaci\u00f3n Cruzada\n",
        "\n",
        "Este notebook muestra ejemplos pr\u00e1cticos de validaci\u00f3n cruzada utilizando scikit-learn:\n",
        "- Holdout\n",
        "- K-Fold\n",
        "- Shuffle Split\n",
        "- Leave-One-Out (LOOCV)\n",
        "\n",
        "Tambi\u00e9n se sugiere comparar los resultados para elegir el mejor enfoque para tus modelos."
      ]
    }
  ],
  "metadata": {},
  "nbformat": 4,
  "nbformat_minor": 2
}