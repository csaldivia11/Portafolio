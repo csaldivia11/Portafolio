{
  "cells": [
    {
      "cell_type": "markdown",
      "metadata": {},
      "source": [
        "# \ud83d\udcc8 Modelo de Regresi\u00f3n\n",
        "\n",
        "Este notebook implementa un modelo de regresi\u00f3n para predecir los costos m\u00e9dicos (`charges`) usando el dataset `insurance.csv`.\n",
        "\n",
        "## Pasos sugeridos:\n",
        "- Cargar los datos\n",
        "- Preprocesamiento (LabelEncoder, OneHot, escalado)\n",
        "- Entrenamiento de modelo (LinearRegression, DecisionTreeRegressor, etc.)\n",
        "- Validaci\u00f3n cruzada (Holdout, K-Fold)\n",
        "- Evaluaci\u00f3n con MAE, RMSE, R\u00b2\n",
        "- Visualizaci\u00f3n de resultados\n"
      ]
    }
  ],
  "metadata": {},
  "nbformat": 4,
  "nbformat_minor": 2
}