{
 "cells": [
  {
   "cell_type": "code",
   "execution_count": 3,
   "id": "5c69d185",
   "metadata": {},
   "outputs": [],
   "source": [
    "# ️1. Exploración del Lenguaje y su Contexto: \n",
    "# Investiga brevemente el lenguaje Python:\n",
    "\n",
    "# ¿Qué lo hace especial? \n",
    "# - Python es un lenguaje de programación de alto nivel, interpretado y multipropósito.\n",
    "# - Lo que lo hace especial es su sintaxis clara, legible y concisa, lo que facilita el aprendizaje y la escritura de código.\n",
    "\n",
    "# ¿Para qué se usa principalmente?\n",
    "# - Desarrollo Web (frameworks como Django, Flask)\n",
    "# - Ciencia de Datos y Análisis (librerías como Pandas, NumPy)\n",
    "# - Inteligencia Artificial y Machine Learning (TensorFlow, PyTorch, scikit-learn)\n",
    "# - Automatización y Scripting\n",
    "# - Desarrollo de Software en general\n",
    "\n",
    "# ¿Cuáles son sus principales características?\n",
    "# - Fácil de aprender y usar.\n",
    "# - Código limpio y legible.\n",
    "# - Gran cantidad de librerías y frameworks.\n",
    "# - Multiplataforma (funciona en Windows, Mac, Linux, etc.).\n",
    "# - Comunidad grande y activa.\n",
    "# - Tipado dinámico (no necesitas declarar el tipo de variable explícitamente).\n",
    "\n",
    "\n",
    "# ¿Qué versión estás utilizando?\n",
    "# Estoy usando Python 3.11.9"
   ]
  },
  {
   "cell_type": "code",
   "execution_count": 6,
   "id": "bca7b5cb",
   "metadata": {},
   "outputs": [
    {
     "name": "stdout",
     "output_type": "stream",
     "text": [
      "El precio total de 50 Completos a $3.25 c/u es: $162.5\n",
      "¿Hay stock suficiente?: True\n",
      "¿Puede aplicar descuento (VIP o compra al por mayor)?: True\n",
      "\n",
      "Validación de Usuario\n",
      "Hola, Carlos. Eres mayor de 18 años. Acceso permitido.\n"
     ]
    }
   ],
   "source": [
    "# 3. Desarrollo del Script: \n",
    "# Crea un script con las siguientes funcionalidades: \n",
    "# - Declaración de al menos 4 variables (uno de cada tipo: entero, decimal, string, booleano). \n",
    "# - Uso de operadores aritméticos y lógicos. \n",
    "# - Solicita entrada del usuario para ingresar un nombre y una edad. \n",
    "# - Utiliza estructuras condicionales (if, elif, else) para imprimir diferentes mensajes: \n",
    "#   - Si es mayor de edad: “Acceso permitido”. \n",
    "#   - Si es menor de edad: “Acceso denegado”. \n",
    "# - Imprime mensajes con print() y documenta el código con comentarios. \n",
    "# - Aplica conversión de tipos si es necesario (int(), str(), etc).\n",
    "\n",
    "# Desarrollo del Script:\n",
    "\n",
    "# Declaración de variables de diferentes tipos\n",
    "cantidad_productos = 50\n",
    "precio_unitario = 3.25\n",
    "nombre_producto = \"Completos\"\n",
    "cliente_vip = False\n",
    "stock = 100\n",
    "\n",
    "# Uso de operadores aritméticos\n",
    "precio_total = cantidad_productos * precio_unitario\n",
    "print(f\"El precio total de {cantidad_productos} {nombre_producto} a ${precio_unitario} c/u es: ${precio_total}\")\n",
    "\n",
    "# Uso de operadores lógicos\n",
    "stock_suficiente = cantidad_productos < stock\n",
    "descuento = cliente_vip or (cantidad_productos > 20)\n",
    "\n",
    "print(f\"¿Hay stock suficiente?: {stock_suficiente}\")\n",
    "print(f\"¿Puede aplicar descuento (VIP o compra al por mayor)?: {descuento}\")\n",
    "\n",
    "\n",
    "# Solicita entrada del usuario para ingresar un nombre y una edad y utiliza estructuras condicionales (if, elif, else)\n",
    "print(\"\\nValidación de Usuario\")\n",
    "\n",
    "nombre_usuario = str(input(\"Por favor, ingresa tu nombre: \"))\n",
    "edad_usuario = int(input(\"Por favor, ingresa tu edad: \"))\n",
    "\n",
    "if edad_usuario < 18:\n",
    "    print(f\"Hola, {nombre_usuario}. Tienes eres menor de edad. Acceso denegado.\")\n",
    "elif edad_usuario == 18:\n",
    "    print(f\"Hola, {nombre_usuario}. Tienes justo 18 años. Acceso permitido.\")\n",
    "else: # Esto cubre edad_usuario_int > 18\n",
    "    print(f\"Hola, {nombre_usuario}. Eres mayor de 18 años. Acceso permitido.\")"
   ]
  }
 ],
 "metadata": {
  "kernelspec": {
   "display_name": "Python 3",
   "language": "python",
   "name": "python3"
  },
  "language_info": {
   "codemirror_mode": {
    "name": "ipython",
    "version": 3
   },
   "file_extension": ".py",
   "mimetype": "text/x-python",
   "name": "python",
   "nbconvert_exporter": "python",
   "pygments_lexer": "ipython3",
   "version": "3.11.9"
  }
 },
 "nbformat": 4,
 "nbformat_minor": 5
}
