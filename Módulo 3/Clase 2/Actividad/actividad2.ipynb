{
 "cells": [
  {
   "cell_type": "markdown",
   "id": "116ab509",
   "metadata": {},
   "source": [
    "# Actividad 2 - Módulo 3"
   ]
  },
  {
   "cell_type": "markdown",
   "id": "76586ae9",
   "metadata": {},
   "source": [
    "### Configuración inicial"
   ]
  },
  {
   "cell_type": "code",
   "execution_count": 12,
   "id": "40130703",
   "metadata": {},
   "outputs": [],
   "source": [
    "# Carga de librerías\n",
    "import pandas as pd\n",
    "import numpy as np\n",
    "import matplotlib.pyplot as plt"
   ]
  },
  {
   "cell_type": "markdown",
   "id": "5240f295",
   "metadata": {},
   "source": [
    "### 1. Carga y limpieza de datos"
   ]
  },
  {
   "cell_type": "code",
   "execution_count": 4,
   "id": "01785050",
   "metadata": {},
   "outputs": [
    {
     "name": "stdout",
     "output_type": "stream",
     "text": [
      "DataFrame inicial con valores atípicos y faltantes:\n",
      "   nombre  edad     ciudad  ingresos              área  años_experiencia\n",
      "0     Ana    23     Madrid    2500.0                IT                 2\n",
      "1    Luis    35  Barcelona    3200.0            Ventas                 8\n",
      "2   Sofía    28   Valencia    2900.0                IT                 5\n",
      "3   Pedro   150     Bilbao    3600.0         Dirección                15\n",
      "4   Marta    29     Madrid    2700.0  Recursos Humanos                 3\n",
      "5    Juan    35  Barcelona       NaN            Ventas                 9\n",
      "6   Lucía    31   Valencia    3300.0                IT                 6\n",
      "7  Miguel    27     Bilbao    2750.0  Recursos Humanos                 4\n",
      "\n",
      "Valores faltantes por columna:\n",
      "nombre              0\n",
      "edad                0\n",
      "ciudad              0\n",
      "ingresos            1\n",
      "área                0\n",
      "años_experiencia    0\n",
      "dtype: int64\n",
      "\n",
      "Valores atípicos en edad (mayores a 100 o negativos):\n",
      "  nombre  edad\n",
      "3  Pedro   150\n"
     ]
    }
   ],
   "source": [
    "# Datos iniciales\n",
    "nombre = ['Ana', 'Luis', 'Sofía', 'Pedro', 'Marta', 'Juan', 'Lucía', 'Miguel']\n",
    "edad = [23, 35, 28, 40, 29, 35, 31, 27]\n",
    "ciudad = ['Madrid', 'Barcelona', 'Valencia', 'Bilbao', 'Madrid', 'Barcelona', 'Valencia', 'Bilbao']\n",
    "ingresos = [2500, 3200, 2900, 3600, 2700, 3100, 3300, 2750]\n",
    "área = ['IT', 'Ventas', 'IT', 'Dirección', 'Recursos Humanos', 'Ventas', 'IT', 'Recursos Humanos']\n",
    "años_experiencia = [2, 8, 5, 15, 3, 9, 6, 4]\n",
    "\n",
    "# Agregando valores atípicos y faltantes intencionalmente\n",
    "edad[3] = 150  # Valor atípico en edad (Pedro)\n",
    "ingresos[5] = None  # Valor faltante en ingresos (Juan)\n",
    "\n",
    "# Crear DataFrame\n",
    "df = pd.DataFrame({\n",
    "    'nombre': nombre,\n",
    "    'edad': edad,\n",
    "    'ciudad': ciudad,\n",
    "    'ingresos': ingresos,\n",
    "    'área': área,\n",
    "    'años_experiencia': años_experiencia\n",
    "})\n",
    "\n",
    "print(\"DataFrame inicial con valores atípicos y faltantes:\")\n",
    "print(df)\n",
    "\n",
    "# Identificar valores faltantes y anómalos\n",
    "print(\"\\nValores faltantes por columna:\")\n",
    "print(df.isnull().sum())\n",
    "\n",
    "# Identificar valores atípicos en edad\n",
    "print(\"\\nValores atípicos en edad (mayores a 100 o negativos):\")\n",
    "edad_atipicos = df[(df['edad'] > 100) | (df['edad'] < 0)]\n",
    "print(edad_atipicos[['nombre', 'edad']])\n",
    "\n"
   ]
  },
  {
   "cell_type": "markdown",
   "id": "0bbd0cf4",
   "metadata": {},
   "source": [
    "### 2. Exploración básica"
   ]
  },
  {
   "cell_type": "code",
   "execution_count": 5,
   "id": "231bf255",
   "metadata": {},
   "outputs": [
    {
     "name": "stdout",
     "output_type": "stream",
     "text": [
      "HEAD del DataFrame:\n",
      "  nombre  edad     ciudad  ingresos              área  años_experiencia\n",
      "0    Ana    23     Madrid    2500.0                IT                 2\n",
      "1   Luis    35  Barcelona    3200.0            Ventas                 8\n",
      "2  Sofía    28   Valencia    2900.0                IT                 5\n",
      "3  Pedro   150     Bilbao    3600.0         Dirección                15\n",
      "4  Marta    29     Madrid    2700.0  Recursos Humanos                 3\n",
      "\n",
      "INFO del DataFrame:\n",
      "<class 'pandas.core.frame.DataFrame'>\n",
      "RangeIndex: 8 entries, 0 to 7\n",
      "Data columns (total 6 columns):\n",
      " #   Column            Non-Null Count  Dtype  \n",
      "---  ------            --------------  -----  \n",
      " 0   nombre            8 non-null      object \n",
      " 1   edad              8 non-null      int64  \n",
      " 2   ciudad            8 non-null      object \n",
      " 3   ingresos          7 non-null      float64\n",
      " 4   área              8 non-null      object \n",
      " 5   años_experiencia  8 non-null      int64  \n",
      "dtypes: float64(1), int64(2), object(3)\n",
      "memory usage: 516.0+ bytes\n",
      "None\n",
      "\n",
      "DESCRIBE del DataFrame:\n",
      "             edad     ingresos  años_experiencia\n",
      "count    8.000000     7.000000          8.000000\n",
      "mean    44.750000  2992.857143          6.500000\n",
      "std     42.717511   387.759130          4.174754\n",
      "min     23.000000  2500.000000          2.000000\n",
      "25%     27.750000  2725.000000          3.750000\n",
      "50%     30.000000  2900.000000          5.500000\n",
      "75%     35.000000  3250.000000          8.250000\n",
      "max    150.000000  3600.000000         15.000000\n",
      "\n",
      "VALUE_COUNTS para 'área':\n",
      "área\n",
      "IT                  3\n",
      "Ventas              2\n",
      "Recursos Humanos    2\n",
      "Dirección           1\n",
      "Name: count, dtype: int64\n",
      "\n",
      "VALUE_COUNTS para 'ciudad':\n",
      "ciudad\n",
      "Madrid       2\n",
      "Barcelona    2\n",
      "Valencia     2\n",
      "Bilbao       2\n",
      "Name: count, dtype: int64\n",
      "\n",
      "COMENTARIOS sobre la exploración:\n",
      "\n",
      "- Distribución de áreas: IT tiene 3 empleados, siendo el área más representada\n",
      "- Ciudades: distribución equitativa con 2 empleados por ciudad\n",
      "- Edad: rango amplio con un valor atípico de 150 años\n",
      "- Ingresos: promedio alrededor de 3000, con un valor faltante\n",
      "- Años de experiencia: desde 2 hasta 15 años\n",
      "\n"
     ]
    }
   ],
   "source": [
    "print(\"HEAD del DataFrame:\")\n",
    "print(df.head())\n",
    "\n",
    "print(\"\\nINFO del DataFrame:\")\n",
    "print(df.info())\n",
    "\n",
    "print(\"\\nDESCRIBE del DataFrame:\")\n",
    "print(df.describe())\n",
    "\n",
    "print(\"\\nVALUE_COUNTS para 'área':\")\n",
    "print(df['área'].value_counts())\n",
    "\n",
    "print(\"\\nVALUE_COUNTS para 'ciudad':\")\n",
    "print(df['ciudad'].value_counts())\n",
    "\n",
    "print(\"\\nCOMENTARIOS sobre la exploración:\")\n",
    "print(\"\"\"\n",
    "- Distribución de áreas: IT tiene 3 empleados, siendo el área más representada\n",
    "- Ciudades: distribución equitativa con 2 empleados por ciudad\n",
    "- Edad: rango amplio con un valor atípico de 150 años\n",
    "- Ingresos: promedio alrededor de 3000, con un valor faltante\n",
    "- Años de experiencia: desde 2 hasta 15 años\n",
    "\"\"\")"
   ]
  },
  {
   "cell_type": "markdown",
   "id": "7a95f335",
   "metadata": {},
   "source": [
    "### 3. Limpieza de datos"
   ]
  },
  {
   "cell_type": "code",
   "execution_count": 6,
   "id": "f8168e02",
   "metadata": {},
   "outputs": [
    {
     "name": "stdout",
     "output_type": "stream",
     "text": [
      "Mediana de edad (sin atípicos): 29.0\n",
      "\n",
      "Media de ingresos por área:\n",
      "área\n",
      "Dirección           3600.0\n",
      "IT                  2900.0\n",
      "Recursos Humanos    2725.0\n",
      "Ventas              3200.0\n",
      "Name: ingresos, dtype: float64\n",
      "\n",
      "DataFrame después de la limpieza:\n",
      "   nombre  edad     ciudad  ingresos              área  años_experiencia\n",
      "0     Ana    23     Madrid    2500.0                IT                 2\n",
      "1    Luis    35  Barcelona    3200.0            Ventas                 8\n",
      "2   Sofía    28   Valencia    2900.0                IT                 5\n",
      "3   Pedro    29     Bilbao    3600.0         Dirección                15\n",
      "4   Marta    29     Madrid    2700.0  Recursos Humanos                 3\n",
      "5    Juan    35  Barcelona    3200.0            Ventas                 9\n",
      "6   Lucía    31   Valencia    3300.0                IT                 6\n",
      "7  Miguel    27     Bilbao    2750.0  Recursos Humanos                 4\n"
     ]
    }
   ],
   "source": [
    "# Calcular mediana de edad excluyendo valores atípicos\n",
    "edad_sin_atipicos = df[(df['edad'] <= 100) & (df['edad'] >= 0)]['edad']\n",
    "mediana_edad = edad_sin_atipicos.median()\n",
    "\n",
    "print(f\"Mediana de edad (sin atípicos): {mediana_edad}\")\n",
    "\n",
    "# Reemplazar valores atípicos en edad\n",
    "df.loc[(df['edad'] > 100) | (df['edad'] < 0), 'edad'] = mediana_edad\n",
    "\n",
    "# Calcular media de ingresos por área para imputación\n",
    "media_ingresos_por_area = df.groupby('área')['ingresos'].mean()\n",
    "print(\"\\nMedia de ingresos por área:\")\n",
    "print(media_ingresos_por_area)\n",
    "\n",
    "# Imputar valores faltantes en ingresos usando la media por área\n",
    "for idx in df[df['ingresos'].isnull()].index:\n",
    "    area_empleado = df.loc[idx, 'área']\n",
    "    df.loc[idx, 'ingresos'] = media_ingresos_por_area[area_empleado]\n",
    "\n",
    "print(\"\\nDataFrame después de la limpieza:\")\n",
    "print(df)"
   ]
  },
  {
   "cell_type": "markdown",
   "id": "815741cb",
   "metadata": {},
   "source": [
    "### 4. Filtrado avanzado y selección múltiple"
   ]
  },
  {
   "cell_type": "code",
   "execution_count": 7,
   "id": "3798a100",
   "metadata": {},
   "outputs": [
    {
     "name": "stdout",
     "output_type": "stream",
     "text": [
      "Empleados que cumplen todos los criterios:\n",
      "- Trabajen en Madrid o Barcelona\n",
      "- Tengan más de 30 años\n",
      "- Y más de 5 años de experiencia\n",
      "\n",
      "\n",
      "  nombre  edad     ciudad  ingresos    área  años_experiencia\n",
      "1   Luis    35  Barcelona    3200.0  Ventas                 8\n",
      "5   Juan    35  Barcelona    3200.0  Ventas                 9\n",
      "\n",
      "Total de empleados que cumplen los criterios: 2\n",
      "\n",
      "Características compartidas:\n",
      "- Todos tienen ingresos superiores a 3000\n",
      "- Predominan las áreas de Ventas\n",
      "- Edad promedio: 35.0\n"
     ]
    }
   ],
   "source": [
    "# Filtrar empleados según los criterios\n",
    "empleados_filtrados = df[\n",
    "    ((df['ciudad'] == 'Madrid') | (df['ciudad'] == 'Barcelona')) &\n",
    "    (df['edad'] > 30) &\n",
    "    (df['años_experiencia'] > 5)\n",
    "]\n",
    "\n",
    "print(\"Empleados que cumplen todos los criterios:\")\n",
    "print(\"- Trabajen en Madrid o Barcelona\")\n",
    "print(\"- Tengan más de 30 años\")\n",
    "print(\"- Y más de 5 años de experiencia\")\n",
    "print(\"\\n\")\n",
    "print(empleados_filtrados)\n",
    "print(f\"\\nTotal de empleados que cumplen los criterios: {len(empleados_filtrados)}\")\n",
    "print(\"\\nCaracterísticas compartidas:\")\n",
    "print(\"- Todos tienen ingresos superiores a 3000\")\n",
    "print(\"- Predominan las áreas de Ventas\")\n",
    "print(\"- Edad promedio:\", empleados_filtrados['edad'].mean())"
   ]
  },
  {
   "cell_type": "markdown",
   "id": "2fcec673",
   "metadata": {},
   "source": [
    "### 5. Agrupación y resumen"
   ]
  },
  {
   "cell_type": "code",
   "execution_count": 8,
   "id": "80b1a255",
   "metadata": {},
   "outputs": [
    {
     "name": "stdout",
     "output_type": "stream",
     "text": [
      "Estadísticas por ÁREA:\n",
      "                  Ingreso Promedio  Edad Máxima\n",
      "área                                           \n",
      "Dirección                   3600.0           29\n",
      "IT                          2900.0           31\n",
      "Recursos Humanos            2725.0           29\n",
      "Ventas                      3200.0           35\n",
      "\n",
      "\n",
      "Estadísticas por CIUDAD:\n",
      "           Ingreso Promedio  Edad Máxima\n",
      "ciudad                                  \n",
      "Barcelona            3200.0           35\n",
      "Bilbao               3175.0           29\n",
      "Madrid               2600.0           29\n",
      "Valencia             3100.0           31\n",
      "\n",
      "Área con mayor ingreso promedio: Dirección ($3600.00)\n",
      "Ciudad con mayor ingreso promedio: Barcelona ($3200.00)\n"
     ]
    }
   ],
   "source": [
    "# Agrupación por área\n",
    "print(\"Estadísticas por ÁREA:\")\n",
    "agrupacion_area = df.groupby('área').agg({\n",
    "    'ingresos': 'mean',\n",
    "    'edad': 'max'\n",
    "}).round(2)\n",
    "agrupacion_area.columns = ['Ingreso Promedio', 'Edad Máxima']\n",
    "print(agrupacion_area)\n",
    "print(\"\\n\")\n",
    "\n",
    "# Agrupación por ciudad\n",
    "print(\"Estadísticas por CIUDAD:\")\n",
    "agrupacion_ciudad = df.groupby('ciudad').agg({\n",
    "    'ingresos': 'mean',\n",
    "    'edad': 'max'\n",
    "}).round(2)\n",
    "agrupacion_ciudad.columns = ['Ingreso Promedio', 'Edad Máxima']\n",
    "print(agrupacion_ciudad)\n",
    "\n",
    "# Encontrar ciudad y área con ingresos más altos\n",
    "ingreso_max_area = agrupacion_area['Ingreso Promedio'].idxmax()\n",
    "ingreso_max_ciudad = agrupacion_ciudad['Ingreso Promedio'].idxmax()\n",
    "\n",
    "print(f\"\\nÁrea con mayor ingreso promedio: {ingreso_max_area} (${agrupacion_area.loc[ingreso_max_area, 'Ingreso Promedio']:.2f})\")\n",
    "print(f\"Ciudad con mayor ingreso promedio: {ingreso_max_ciudad} (${agrupacion_ciudad.loc[ingreso_max_ciudad, 'Ingreso Promedio']:.2f})\")"
   ]
  },
  {
   "cell_type": "markdown",
   "id": "ccd1b417",
   "metadata": {},
   "source": [
    "### 6. Creación y transformación de variables"
   ]
  },
  {
   "cell_type": "code",
   "execution_count": 9,
   "id": "81ac5b32",
   "metadata": {},
   "outputs": [
    {
     "name": "stdout",
     "output_type": "stream",
     "text": [
      "DataFrame con nuevas variables categóricas:\n",
      "   nombre  ingresos nivel_ingresos  años_experiencia  senioridad\n",
      "0     Ana    2500.0           bajo                 2      junior\n",
      "1    Luis    3200.0          medio                 8  semisenior\n",
      "2   Sofía    2900.0          medio                 5  semisenior\n",
      "3   Pedro    3600.0           alto                15      senior\n",
      "4   Marta    2700.0           bajo                 3      junior\n",
      "5    Juan    3200.0          medio                 9  semisenior\n",
      "6   Lucía    3300.0           alto                 6  semisenior\n",
      "7  Miguel    2750.0           bajo                 4      junior\n"
     ]
    }
   ],
   "source": [
    "# Crear columna nivel_ingresos\n",
    "df['nivel_ingresos'] = pd.cut(df['ingresos'], \n",
    "                               bins=[0, 2800, 3200, float('inf')],\n",
    "                               labels=['bajo', 'medio', 'alto'])\n",
    "\n",
    "# Crear columna senioridad\n",
    "df['senioridad'] = pd.cut(df['años_experiencia'],\n",
    "                          bins=[0, 5, 10, float('inf')],\n",
    "                          labels=['junior', 'semisenior', 'senior'],\n",
    "                          right=False)\n",
    "\n",
    "print(\"DataFrame con nuevas variables categóricas:\")\n",
    "print(df[['nombre', 'ingresos', 'nivel_ingresos', 'años_experiencia', 'senioridad']])"
   ]
  },
  {
   "cell_type": "markdown",
   "id": "a33f18f3",
   "metadata": {},
   "source": [
    "### 8. Interpretación y propuesta"
   ]
  },
  {
   "cell_type": "code",
   "execution_count": 11,
   "id": "9ca2dce0",
   "metadata": {},
   "outputs": [
    {
     "name": "stdout",
     "output_type": "stream",
     "text": [
      "Principales hallazgos:\n",
      "\n",
      "1. Desigualdades detectadas: Existe una brecha salarial significativa entre áreas, \n",
      "   con Dirección teniendo el mayor ingreso ($3600) y Recursos Humanos el menor promedio ($2725).\n",
      "\n",
      "2. Grupos destacados: Los empleados senior en áreas técnicas (IT) y comerciales (Ventas) \n",
      "   presentan los mejores perfiles de compensación y experiencia.\n",
      "\n",
      "3. Anomalías corregidas: Se identificó y corrigió un valor atípico en edad (150 años) \n",
      "   y se imputó un valor faltante en ingresos usando la media del área correspondiente.\n",
      "\n",
      "4. Recomendaciones para la gerencia:\n",
      "   - Revisar la política salarial en Recursos Humanos para reducir la brecha\n",
      "   - Implementar un plan de desarrollo para empleados junior en todas las áreas\n",
      "   - Considerar ajustes salariales basados en años de experiencia\n",
      "\n",
      "ANÁLISIS ADICIONAL:\n",
      "- Correlación Experiencia-Ingresos:\n",
      "                  años_experiencia  ingresos\n",
      "años_experiencia          1.000000  0.917616\n",
      "ingresos                  0.917616  1.000000\n",
      "\n",
      "La correlación entre experiencia e ingresos es: 0.918\n",
      "Esto indica una correlación positiva moderada-fuerte entre ambas variables.\n"
     ]
    }
   ],
   "source": [
    "print(\"Principales hallazgos:\")\n",
    "print(\"\"\"\n",
    "1. Desigualdades detectadas: Existe una brecha salarial significativa entre áreas, \n",
    "   con Dirección teniendo el mayor ingreso ($3600) y Recursos Humanos el menor promedio ($2725).\n",
    "\n",
    "2. Grupos destacados: Los empleados senior en áreas técnicas (IT) y comerciales (Ventas) \n",
    "   presentan los mejores perfiles de compensación y experiencia.\n",
    "\n",
    "3. Anomalías corregidas: Se identificó y corrigió un valor atípico en edad (150 años) \n",
    "   y se imputó un valor faltante en ingresos usando la media del área correspondiente.\n",
    "\n",
    "4. Recomendaciones para la gerencia:\n",
    "   - Revisar la política salarial en Recursos Humanos para reducir la brecha\n",
    "   - Implementar un plan de desarrollo para empleados junior en todas las áreas\n",
    "   - Considerar ajustes salariales basados en años de experiencia\"\"\")\n",
    "\n",
    "# Análisis adicional: Correlación entre experiencia e ingresos\n",
    "print(\"\\nANÁLISIS ADICIONAL:\")\n",
    "print(\"- Correlación Experiencia-Ingresos:\")\n",
    "correlacion = df[['años_experiencia', 'ingresos']].corr()\n",
    "print(correlacion)\n",
    "\n",
    "print(f\"\\nLa correlación entre experiencia e ingresos es: {correlacion.iloc[0,1]:.3f}\")\n",
    "print(\"Esto indica una correlación positiva moderada-fuerte entre ambas variables.\")"
   ]
  }
 ],
 "metadata": {
  "kernelspec": {
   "display_name": "Python 3",
   "language": "python",
   "name": "python3"
  },
  "language_info": {
   "codemirror_mode": {
    "name": "ipython",
    "version": 3
   },
   "file_extension": ".py",
   "mimetype": "text/x-python",
   "name": "python",
   "nbconvert_exporter": "python",
   "pygments_lexer": "ipython3",
   "version": "3.13.5"
  }
 },
 "nbformat": 4,
 "nbformat_minor": 5
}
