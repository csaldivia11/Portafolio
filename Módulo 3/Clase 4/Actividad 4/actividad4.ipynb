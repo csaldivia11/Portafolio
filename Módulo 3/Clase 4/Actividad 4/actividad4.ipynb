{
 "cells": [
  {
   "cell_type": "markdown",
   "id": "6346cd5c",
   "metadata": {},
   "source": [
    "# Actividad 4 - Módulo 3"
   ]
  },
  {
   "cell_type": "markdown",
   "id": "1c07997c",
   "metadata": {},
   "source": [
    "## Configuración inicial"
   ]
  },
  {
   "cell_type": "code",
   "execution_count": 13,
   "id": "a50983c9",
   "metadata": {},
   "outputs": [],
   "source": [
    "# Importamos librerias\n",
    "import pandas as pd\n",
    "import numpy as np\n",
    "import matplotlib.pyplot as plt\n",
    "from sklearn.impute import KNNImputer, SimpleImputer\n",
    "from pathlib import Path\n",
    "\n",
    "# Visualización en línea\n",
    "%matplotlib inline\n",
    "\n",
    "# Ruta del archivo (relativa al notebook)\n",
    "script_dir = Path().resolve()\n",
    "datos_dir = script_dir / 'sensores_industriales.csv'"
   ]
  },
  {
   "cell_type": "markdown",
   "id": "d79dc25d",
   "metadata": {},
   "source": [
    "## 1. Carga del archivo y exploración"
   ]
  },
  {
   "cell_type": "code",
   "execution_count": 14,
   "id": "181629e6",
   "metadata": {},
   "outputs": [
    {
     "name": "stdout",
     "output_type": "stream",
     "text": [
      "Dimensiones del dataset: (150, 4)\n",
      "\n",
      "Tipos de datos por columna:\n",
      " id               int64\n",
      "temperatura    float64\n",
      "presion        float64\n",
      "estado          object\n",
      "dtype: object\n",
      "\n",
      "Cantidad de valores faltantes por columna:\n",
      " id             0\n",
      "temperatura    9\n",
      "presion        9\n",
      "estado         9\n",
      "dtype: int64\n"
     ]
    }
   ],
   "source": [
    "# Cargar el archivo CSV con marcadores de valores faltantes\n",
    "df = pd.read_csv(datos_dir, na_values=['NA', '-999', '?'])\n",
    "df_original = df.copy()\n",
    "\n",
    "print(\"Dimensiones del dataset:\", df.shape)\n",
    "print(\"\\nTipos de datos por columna:\\n\", df.dtypes)\n",
    "print(\"\\nCantidad de valores faltantes por columna:\\n\", df.isnull().sum())"
   ]
  },
  {
   "cell_type": "markdown",
   "id": "911e8c04",
   "metadata": {},
   "source": [
    "## 2. Detección de valores perdidos "
   ]
  },
  {
   "cell_type": "code",
   "execution_count": 15,
   "id": "f7573bc7",
   "metadata": {},
   "outputs": [
    {
     "data": {
      "text/html": [
       "<div>\n",
       "<style scoped>\n",
       "    .dataframe tbody tr th:only-of-type {\n",
       "        vertical-align: middle;\n",
       "    }\n",
       "\n",
       "    .dataframe tbody tr th {\n",
       "        vertical-align: top;\n",
       "    }\n",
       "\n",
       "    .dataframe thead th {\n",
       "        text-align: right;\n",
       "    }\n",
       "</style>\n",
       "<table border=\"1\" class=\"dataframe\">\n",
       "  <thead>\n",
       "    <tr style=\"text-align: right;\">\n",
       "      <th></th>\n",
       "      <th>id</th>\n",
       "      <th>temperatura</th>\n",
       "      <th>presion</th>\n",
       "      <th>estado</th>\n",
       "    </tr>\n",
       "  </thead>\n",
       "  <tbody>\n",
       "    <tr>\n",
       "      <th>0</th>\n",
       "      <td>1</td>\n",
       "      <td>60.000000</td>\n",
       "      <td>1.020020</td>\n",
       "      <td>OK</td>\n",
       "    </tr>\n",
       "    <tr>\n",
       "      <th>1</th>\n",
       "      <td>2</td>\n",
       "      <td>21.585207</td>\n",
       "      <td>1.023858</td>\n",
       "      <td>OK</td>\n",
       "    </tr>\n",
       "    <tr>\n",
       "      <th>2</th>\n",
       "      <td>3</td>\n",
       "      <td>23.943066</td>\n",
       "      <td>0.982799</td>\n",
       "      <td>NaN</td>\n",
       "    </tr>\n",
       "    <tr>\n",
       "      <th>3</th>\n",
       "      <td>4</td>\n",
       "      <td>26.569090</td>\n",
       "      <td>1.019290</td>\n",
       "      <td>ALERTA</td>\n",
       "    </tr>\n",
       "    <tr>\n",
       "      <th>4</th>\n",
       "      <td>5</td>\n",
       "      <td>21.297540</td>\n",
       "      <td>1.021723</td>\n",
       "      <td>FALLA</td>\n",
       "    </tr>\n",
       "  </tbody>\n",
       "</table>\n",
       "</div>"
      ],
      "text/plain": [
       "   id  temperatura   presion  estado\n",
       "0   1    60.000000  1.020020      OK\n",
       "1   2    21.585207  1.023858      OK\n",
       "2   3    23.943066  0.982799     NaN\n",
       "3   4    26.569090  1.019290  ALERTA\n",
       "4   5    21.297540  1.021723   FALLA"
      ]
     },
     "execution_count": 15,
     "metadata": {},
     "output_type": "execute_result"
    }
   ],
   "source": [
    "# Eliminación de filas con más del 50% de valores nulos\n",
    "limite_nulos = df.shape[1] * 0.5\n",
    "df = df[df.isnull().sum(axis=1) < limite_nulos]\n",
    "df.head()"
   ]
  },
  {
   "cell_type": "markdown",
   "id": "7a6f1fa3",
   "metadata": {},
   "source": [
    "## 3. Tratamiento de valores perdidos "
   ]
  },
  {
   "cell_type": "code",
   "execution_count": 16,
   "id": "203262c3",
   "metadata": {},
   "outputs": [
    {
     "data": {
      "text/html": [
       "<div>\n",
       "<style scoped>\n",
       "    .dataframe tbody tr th:only-of-type {\n",
       "        vertical-align: middle;\n",
       "    }\n",
       "\n",
       "    .dataframe tbody tr th {\n",
       "        vertical-align: top;\n",
       "    }\n",
       "\n",
       "    .dataframe thead th {\n",
       "        text-align: right;\n",
       "    }\n",
       "</style>\n",
       "<table border=\"1\" class=\"dataframe\">\n",
       "  <thead>\n",
       "    <tr style=\"text-align: right;\">\n",
       "      <th></th>\n",
       "      <th>id</th>\n",
       "      <th>temperatura</th>\n",
       "      <th>presion</th>\n",
       "      <th>estado</th>\n",
       "    </tr>\n",
       "  </thead>\n",
       "  <tbody>\n",
       "    <tr>\n",
       "      <th>0</th>\n",
       "      <td>1</td>\n",
       "      <td>60.000000</td>\n",
       "      <td>1.020020</td>\n",
       "      <td>OK</td>\n",
       "    </tr>\n",
       "    <tr>\n",
       "      <th>1</th>\n",
       "      <td>2</td>\n",
       "      <td>21.585207</td>\n",
       "      <td>1.023858</td>\n",
       "      <td>OK</td>\n",
       "    </tr>\n",
       "    <tr>\n",
       "      <th>2</th>\n",
       "      <td>3</td>\n",
       "      <td>23.943066</td>\n",
       "      <td>0.982799</td>\n",
       "      <td>OK</td>\n",
       "    </tr>\n",
       "    <tr>\n",
       "      <th>3</th>\n",
       "      <td>4</td>\n",
       "      <td>26.569090</td>\n",
       "      <td>1.019290</td>\n",
       "      <td>ALERTA</td>\n",
       "    </tr>\n",
       "    <tr>\n",
       "      <th>4</th>\n",
       "      <td>5</td>\n",
       "      <td>21.297540</td>\n",
       "      <td>1.021723</td>\n",
       "      <td>FALLA</td>\n",
       "    </tr>\n",
       "  </tbody>\n",
       "</table>\n",
       "</div>"
      ],
      "text/plain": [
       "   id  temperatura   presion  estado\n",
       "0   1    60.000000  1.020020      OK\n",
       "1   2    21.585207  1.023858      OK\n",
       "2   3    23.943066  0.982799      OK\n",
       "3   4    26.569090  1.019290  ALERTA\n",
       "4   5    21.297540  1.021723   FALLA"
      ]
     },
     "execution_count": 16,
     "metadata": {},
     "output_type": "execute_result"
    }
   ],
   "source": [
    "# Imputación con KNN para columnas numéricas\n",
    "columnas_numericas = ['temperatura', 'presion']\n",
    "knn_imputer = KNNImputer(n_neighbors=3)\n",
    "df[columnas_numericas] = knn_imputer.fit_transform(df[columnas_numericas])\n",
    "\n",
    "# Imputación con la moda para columna categórica 'estado'\n",
    "imputer_estado = SimpleImputer(strategy='most_frequent')\n",
    "df[['estado']] = imputer_estado.fit_transform(df[['estado']])\n",
    "df.head()"
   ]
  },
  {
   "cell_type": "markdown",
   "id": "4eecf723",
   "metadata": {},
   "source": [
    "# 4. Detección y tratamiento de outliers"
   ]
  },
  {
   "cell_type": "code",
   "execution_count": 17,
   "id": "f03126c2",
   "metadata": {},
   "outputs": [
    {
     "name": "stdout",
     "output_type": "stream",
     "text": [
      "Outliers en 'temperatura': fuera del rango [14.91, 28.12]\n",
      "Outliers en 'presion': fuera del rango [0.90, 1.12]\n"
     ]
    }
   ],
   "source": [
    "def eliminar_outliers_iqr(df, columna):\n",
    "    Q1 = df[columna].quantile(0.25)\n",
    "    Q3 = df[columna].quantile(0.75)\n",
    "    IQR = Q3 - Q1\n",
    "    limite_inferior = Q1 - 1.5 * IQR\n",
    "    limite_superior = Q3 + 1.5 * IQR\n",
    "    print(f\"Outliers en '{columna}': fuera del rango [{limite_inferior:.2f}, {limite_superior:.2f}]\")\n",
    "    return df[(df[columna] >= limite_inferior) & (df[columna] <= limite_superior)]\n",
    "\n",
    "df = eliminar_outliers_iqr(df, 'temperatura')\n",
    "df = eliminar_outliers_iqr(df, 'presion')"
   ]
  },
  {
   "cell_type": "markdown",
   "id": "678f576d",
   "metadata": {},
   "source": [
    "## 5. Visualización antes y después del tratamiento"
   ]
  },
  {
   "cell_type": "code",
   "execution_count": 18,
   "id": "079151c4",
   "metadata": {},
   "outputs": [
    {
     "data": {
      "image/png": "[encoded data removed]",
      "text/plain": [
       "<Figure size 1200x800 with 4 Axes>"
      ]
     },
     "metadata": {},
     "output_type": "display_data"
    },
    {
     "name": "stdout",
     "output_type": "stream",
     "text": [
      "\n",
      "Resumen estadístico ANTES del tratamiento:\n",
      "       temperatura     presion\n",
      "count   141.000000  141.000000\n",
      "mean     21.723993    1.021449\n",
      "std       5.062500    0.185733\n",
      "min     -10.000000    0.200000\n",
      "25%      19.840467    0.982284\n",
      "50%      21.783970    1.016927\n",
      "75%      23.420777    1.037184\n",
      "max      60.000000    3.000000\n",
      "\n",
      "Resumen estadístico DESPUÉS del tratamiento:\n",
      "       temperatura     presion\n",
      "count   138.000000  138.000000\n",
      "mean     21.547578    1.013374\n",
      "std       2.642100    0.037341\n",
      "min      16.037293    0.928994\n",
      "25%      19.853811    0.982981\n",
      "50%      21.673400    1.017193\n",
      "75%      23.061217    1.037009\n",
      "max      27.658558    1.118807\n"
     ]
    }
   ],
   "source": [
    "# Boxplots comparativos antes y después\n",
    "fig, axs = plt.subplots(2, 2, figsize=(12, 8))\n",
    "\n",
    "# Temperatura\n",
    "axs[0, 0].boxplot(df_original['temperatura'].dropna())\n",
    "axs[0, 0].set_title('Antes - Temperatura')\n",
    "\n",
    "axs[0, 1].boxplot(df['temperatura'])\n",
    "axs[0, 1].set_title('Después - Temperatura')\n",
    "\n",
    "# Presión\n",
    "axs[1, 0].boxplot(df_original['presion'].dropna())\n",
    "axs[1, 0].set_title('Antes - Presión')\n",
    "\n",
    "axs[1, 1].boxplot(df['presion'])\n",
    "axs[1, 1].set_title('Después - Presión')\n",
    "\n",
    "plt.tight_layout()\n",
    "plt.show()\n",
    "\n",
    "# Tablas resumen estadísticas\n",
    "print(\"\\nResumen estadístico ANTES del tratamiento:\")\n",
    "print(df_original[['temperatura', 'presion']].describe())\n",
    "print(\"\\nResumen estadístico DESPUÉS del tratamiento:\")\n",
    "print(df[['temperatura', 'presion']].describe())"
   ]
  },
  {
   "cell_type": "markdown",
   "id": "d066ae36",
   "metadata": {},
   "source": [
    "## 6. Documentación del pipeline y Guardar el dataset limpio"
   ]
  },
  {
   "cell_type": "markdown",
   "id": "b25473ab",
   "metadata": {},
   "source": [
    "### Documentación del pipeline de limpieza de datos\n",
    "\n",
    "**Archivo:** `sensores_industriales.csv`  \n",
    "**Objetivo:** Preprocesar un dataset con registros de sensores industriales, tratando valores perdidos y outliers para obtener datos listos para análisis.\n",
    "\n",
    "---\n",
    "\n",
    "### 1. Carga y exploración inicial\n",
    "Se cargó el archivo CSV utilizando `pandas`, especificando valores especiales como `'NA'`, `'-999'` y `'?'` para ser tratados como valores faltantes (`NaN`). Se realizó una exploración básica que incluyó:\n",
    "\n",
    "- Cantidad de filas y columnas\n",
    "- Tipos de datos por variable\n",
    "- Conteo de valores faltantes\n",
    "\n",
    "---\n",
    "\n",
    "### 2. Detección y tratamiento de valores perdidos\n",
    "Se eliminaron las filas con más del 50% de sus datos faltantes, ya que contenían información poco útil.  \n",
    "\n",
    "Luego:\n",
    "- Las variables numéricas (`temperatura`, `presión`) fueron imputadas utilizando **KNNImputer (k=3)**, lo que permite estimar valores considerando la similitud con registros vecinos.\n",
    "- La variable categórica `estado` se imputó con la **moda** (valor más frecuente), asegurando coherencia sin introducir categorías nuevas.\n",
    "\n",
    "---\n",
    "\n",
    "### 3. Detección y tratamiento de outliers\n",
    "Se aplicó la **regla de 1.5 × IQR** para detectar outliers en `temperatura` y `presión`. Los valores fuera de los rangos normales fueron eliminados para evitar distorsiones en los análisis posteriores. Esta técnica es adecuada en datos no normalizados o con valores extremos.\n",
    "\n",
    "---\n",
    "\n",
    "### 4. Visualización antes y después\n",
    "Se generaron **boxplots comparativos** y estadísticas descriptivas (`mean`, `std`, `min`, `max`) para evidenciar los cambios en la distribución de datos antes y después del tratamiento.\n",
    "\n",
    "---\n",
    "\n",
    "### 5. Exportación final\n",
    "Los datos limpios se guardaron como `datos_limpios.csv`, listos para ser utilizados en análisis exploratorios, modelado o visualización.\n"
   ]
  },
  {
   "cell_type": "code",
   "execution_count": 19,
   "id": "78c303dd",
   "metadata": {},
   "outputs": [
    {
     "name": "stdout",
     "output_type": "stream",
     "text": [
      " Dataset limpio guardado en: D:\\Dropbox\\Dropbox\\Ingeniería de datos\\Módulo 3\\Clase 4\\Actividad 4\\datos_limpios.csv\n"
     ]
    }
   ],
   "source": [
    "# Guardar el dataset limpio\n",
    "ruta_salida = script_dir / 'datos_limpios.csv'\n",
    "df.to_csv(ruta_salida, index=False)\n",
    "print(\" Dataset limpio guardado en:\", ruta_salida)"
   ]
  }
 ],
 "metadata": {
  "kernelspec": {
   "display_name": "Python 3",
   "language": "python",
   "name": "python3"
  },
  "language_info": {
   "codemirror_mode": {
    "name": "ipython",
    "version": 3
   },
   "file_extension": ".py",
   "mimetype": "text/x-python",
   "name": "python",
   "nbconvert_exporter": "python",
   "pygments_lexer": "ipython3",
   "version": "3.13.5"
  }
 },
 "nbformat": 4,
 "nbformat_minor": 5
}
