{
 "cells": [
  {
   "cell_type": "markdown",
   "id": "df26b7fe",
   "metadata": {},
   "source": [
    "# Actividad 1 - Módulo 3"
   ]
  },
  {
   "cell_type": "markdown",
   "id": "6555baf6",
   "metadata": {},
   "source": [
    "### Configuración inicial"
   ]
  },
  {
   "cell_type": "code",
   "execution_count": null,
   "id": "59fa598c",
   "metadata": {},
   "outputs": [],
   "source": [
    "# Carga de librerías\n",
    "import numpy as np"
   ]
  },
  {
   "cell_type": "markdown",
   "id": "9c0bdd10",
   "metadata": {},
   "source": [
    "### 1. Generar arreglo 3D con datos de sensores"
   ]
  },
  {
   "cell_type": "code",
   "execution_count": null,
   "id": "99eb25b4",
   "metadata": {},
   "outputs": [],
   "source": [
    "# Generar datos para cada variable\n",
    "temperatura = np.random.uniform(5, 110, (30, 96))\n",
    "presion = np.random.uniform(80, 140, (30, 96))\n",
    "humedad = np.random.uniform(15, 85, (30, 96))\n",
    "\n",
    "# Concatenar en la tercera dimensión\n",
    "D = np.stack([temperatura, presion, humedad], axis=2)"
   ]
  },
  {
   "cell_type": "markdown",
   "id": "33fb2c48",
   "metadata": {},
   "source": [
    "### 2. Introducir valores perdidos y atípicos"
   ]
  },
  {
   "cell_type": "code",
   "execution_count": null,
   "id": "b4f765b0",
   "metadata": {},
   "outputs": [],
   "source": [
    "# Hacer una copia para preservar los datos originales\n",
    "D_original = D.copy()\n",
    "\n",
    "# Introducir 30 valores perdidos (np.nan)\n",
    "total_elementos = D.size\n",
    "indices_nan = np.random.choice(total_elementos, 30, replace=False)\n",
    "D_flat = D.flatten()\n",
    "D_flat[indices_nan] = np.nan\n",
    "D = D_flat.reshape(D.shape)\n",
    "\n",
    "# Introducir valores extremos (3 mayores y 3 menores por canal)\n",
    "# Temperatura (canal 0)\n",
    "temp_indices = np.random.choice(D.shape[0] * D.shape[1], 6, replace=False)\n",
    "temp_rows = temp_indices // D.shape[1]\n",
    "temp_cols = temp_indices % D.shape[1]\n",
    "D[temp_rows[:3], temp_cols[:3], 0] = np.random.uniform(115, 130, 3)  # Valores mayores\n",
    "D[temp_rows[3:], temp_cols[3:], 0] = np.random.uniform(-10, 4, 3)    # Valores menores\n",
    "\n",
    "# Presión (canal 1)\n",
    "pres_indices = np.random.choice(D.shape[0] * D.shape[1], 6, replace=False)\n",
    "pres_rows = pres_indices // D.shape[1]\n",
    "pres_cols = pres_indices % D.shape[1]\n",
    "D[pres_rows[:3], pres_cols[:3], 1] = np.random.uniform(145, 160, 3)  # Valores mayores\n",
    "D[pres_rows[3:], pres_cols[3:], 1] = np.random.uniform(60, 79, 3)    # Valores menores\n",
    "\n",
    "# Humedad (canal 2)\n",
    "hum_indices = np.random.choice(D.shape[0] * D.shape[1], 6, replace=False)\n",
    "hum_rows = hum_indices // D.shape[1]\n",
    "hum_cols = hum_indices % D.shape[1]\n",
    "D[hum_rows[:3], hum_cols[:3], 2] = np.random.uniform(90, 100, 3)     # Valores mayores\n",
    "D[hum_rows[3:], hum_cols[3:], 2] = np.random.uniform(0, 14, 3)       # Valores menores"
   ]
  },
  {
   "cell_type": "markdown",
   "id": "ea7b7cce",
   "metadata": {},
   "source": [
    "### 3. Limpieza inicial"
   ]
  },
  {
   "cell_type": "code",
   "execution_count": null,
   "id": "22c9ae3e",
   "metadata": {},
   "outputs": [
    {
     "name": "stdout",
     "output_type": "stream",
     "text": [
      "Valores perdidos por variable:\n",
      "- Temperatura: 9\n",
      "- Presión: 10\n",
      "- Humedad: 11\n",
      "- Total: 30\n"
     ]
    }
   ],
   "source": [
    "# Contar valores perdidos por variable\n",
    "nan_temp = np.isnan(D[:, :, 0]).sum()\n",
    "nan_pres = np.isnan(D[:, :, 1]).sum()\n",
    "nan_hum = np.isnan(D[:, :, 2]).sum()\n",
    "\n",
    "print(f\"Valores perdidos por variable:\")\n",
    "print(f\"- Temperatura: {nan_temp}\")\n",
    "print(f\"- Presión: {nan_pres}\")\n",
    "print(f\"- Humedad: {nan_hum}\")\n",
    "print(f\"- Total: {nan_temp + nan_pres + nan_hum}\")\n",
    "\n",
    "# Sustituir valores perdidos por la media de cada sensor\n",
    "D_limpio = D.copy()\n",
    "for sensor in range(D.shape[0]):\n",
    "    for var in range(D.shape[2]):\n",
    "        sensor_data = D[sensor, :, var]\n",
    "        if np.any(np.isnan(sensor_data)):\n",
    "            media_sensor = np.nanmean(sensor_data)\n",
    "            mask_nan = np.isnan(sensor_data)\n",
    "            D_limpio[sensor, mask_nan, var] = media_sensor"
   ]
  },
  {
   "cell_type": "markdown",
   "id": "acd7a035",
   "metadata": {},
   "source": [
    "### 4. Filtrado y análisis condicional"
   ]
  },
  {
   "cell_type": "code",
   "execution_count": null,
   "id": "dac6d8bc",
   "metadata": {},
   "outputs": [
    {
     "name": "stdout",
     "output_type": "stream",
     "text": [
      "Condiciones:\n",
      "- Temperatura máxima > 100°C\n",
      "- Humedad mínima < 20%\n",
      "\n",
      "Sensores que cumplen ambas condiciones: 30\n",
      "Índices de sensores: [ 0  1  2  3  4  5  6  7  8  9 10 11 12 13 14 15 16 17 18 19 20 21 22 23\n",
      " 24 25 26 27 28 29]\n"
     ]
    }
   ],
   "source": [
    "# Calcular temperatura máxima y humedad mínima por sensor\n",
    "temp_max_por_sensor = np.max(D_limpio[:, :, 0], axis=1)\n",
    "hum_min_por_sensor = np.min(D_limpio[:, :, 2], axis=1)\n",
    "\n",
    "# Identificar sensores que cumplen ambas condiciones\n",
    "sensores_filtrados = (temp_max_por_sensor > 100) & (hum_min_por_sensor < 20)\n",
    "indices_sensores_filtrados = np.where(sensores_filtrados)[0]\n",
    "\n",
    "print(f\"Condiciones:\")\n",
    "print(f\"- Temperatura máxima > 100°C\")\n",
    "print(f\"- Humedad mínima < 20%\")\n",
    "print(f\"\\nSensores que cumplen ambas condiciones: {len(indices_sensores_filtrados)}\")\n",
    "print(f\"Índices de sensores: {indices_sensores_filtrados}\")"
   ]
  },
  {
   "cell_type": "markdown",
   "id": "7536dd9d",
   "metadata": {},
   "source": [
    "### 5. Normalización y reducción"
   ]
  },
  {
   "cell_type": "code",
   "execution_count": null,
   "id": "7cb7e40f",
   "metadata": {},
   "outputs": [
    {
     "name": "stdout",
     "output_type": "stream",
     "text": [
      "Estadísticas de los 30 sensores filtrados:\n",
      "\n",
      "Temperatura:\n",
      "- Media: 57.59\n",
      "- Mediana: 58.39\n",
      "- Desv. estándar: 30.42\n",
      "\n",
      "Presión:\n",
      "- Media: 109.93\n",
      "- Mediana: 109.94\n",
      "- Desv. estándar: 17.38\n",
      "\n",
      "Humedad:\n",
      "- Media: 49.51\n",
      "- Mediana: 49.67\n",
      "- Desv. estándar: 20.22\n"
     ]
    }
   ],
   "source": [
    "# Normalizar presión [0, 1] por sensor\n",
    "D_normalizado = D_limpio.copy()\n",
    "for sensor in range(D.shape[0]):\n",
    "    presion_sensor = D_limpio[sensor, :, 1]\n",
    "    min_pres = np.min(presion_sensor)\n",
    "    max_pres = np.max(presion_sensor)\n",
    "    if max_pres > min_pres:\n",
    "        D_normalizado[sensor, :, 1] = (presion_sensor - min_pres) / (max_pres - min_pres)\n",
    "\n",
    "# Calcular estadísticas para sensores filtrados\n",
    "if len(indices_sensores_filtrados) > 0:\n",
    "    datos_filtrados = D_limpio[indices_sensores_filtrados, :, :]\n",
    "    \n",
    "    # Estadísticas por variable\n",
    "    estadisticas = {}\n",
    "    nombres_vars = ['Temperatura', 'Presión', 'Humedad']\n",
    "    \n",
    "    for i, var_name in enumerate(nombres_vars):\n",
    "        var_data = datos_filtrados[:, :, i].flatten()\n",
    "        estadisticas[var_name] = {\n",
    "            'media': np.mean(var_data),\n",
    "            'mediana': np.median(var_data),\n",
    "            'desv_std': np.std(var_data)\n",
    "        }\n",
    "    \n",
    "    print(f\"Estadísticas de los {len(indices_sensores_filtrados)} sensores filtrados:\")\n",
    "    for var_name, stats in estadisticas.items():\n",
    "        print(f\"\\n{var_name}:\")\n",
    "        print(f\"- Media: {stats['media']:.2f}\")\n",
    "        print(f\"- Mediana: {stats['mediana']:.2f}\")\n",
    "        print(f\"- Desv. estándar: {stats['desv_std']:.2f}\")"
   ]
  },
  {
   "cell_type": "markdown",
   "id": "493adc37",
   "metadata": {},
   "source": [
    "### 6. Correlación y análisis avanzado"
   ]
  },
  {
   "cell_type": "code",
   "execution_count": null,
   "id": "0810777c",
   "metadata": {},
   "outputs": [
    {
     "name": "stdout",
     "output_type": "stream",
     "text": [
      "Matriz de correlación:\n",
      "[[ 1.          0.01530581 -0.00227898]\n",
      " [ 0.01530581  1.         -0.00154111]\n",
      " [-0.00227898 -0.00154111  1.        ]]\n",
      "\n",
      "Variable más correlacionada con temperatura: Presión\n",
      "Coeficiente de correlación: 0.0153\n"
     ]
    }
   ],
   "source": [
    "if len(indices_sensores_filtrados) > 0:\n",
    "    # Reorganizar datos para calcular correlación\n",
    "    temp_filtrada = datos_filtrados[:, :, 0].flatten()\n",
    "    pres_filtrada = datos_filtrados[:, :, 1].flatten()\n",
    "    hum_filtrada = datos_filtrados[:, :, 2].flatten()\n",
    "    \n",
    "    # Crear matriz de datos\n",
    "    datos_correlacion = np.column_stack([temp_filtrada, pres_filtrada, hum_filtrada])\n",
    "    \n",
    "    # Calcular matriz de correlación\n",
    "    matriz_corr = np.corrcoef(datos_correlacion.T)\n",
    "    print(\"Matriz de correlación:\")\n",
    "    print(matriz_corr)\n",
    "    \n",
    "    # Identificar variable más correlacionada con temperatura\n",
    "    corr_con_temp = np.abs(matriz_corr[0, 1:])\n",
    "    var_mas_correlacionada = ['Presión', 'Humedad'][np.argmax(corr_con_temp)]\n",
    "    print(f\"\\nVariable más correlacionada con temperatura: {var_mas_correlacionada}\")\n",
    "    print(f\"Coeficiente de correlación: {matriz_corr[0, np.argmax(corr_con_temp) + 1]:.4f}\")"
   ]
  },
  {
   "cell_type": "markdown",
   "id": "f52f56f7",
   "metadata": {},
   "source": [
    "### 7. Álgebra lineal aplicada"
   ]
  },
  {
   "cell_type": "code",
   "execution_count": null,
   "id": "d2ab5614",
   "metadata": {},
   "outputs": [
    {
     "name": "stdout",
     "output_type": "stream",
     "text": [
      "Sensor con mayor varianza en temperatura: Sensor 9\n",
      "Varianza: 1096.70\n",
      "Matriz de covarianza:\n",
      "[[1108.24706937 -120.43737697  107.1148067 ]\n",
      " [-120.43737697  258.48927141  -51.22518853]\n",
      " [ 107.1148067   -51.22518853  465.80516274]]\n",
      "\n",
      "Valores propios (ordenados):\n",
      "- λ1 = 1143.91 (62.4% de la varianza)\n",
      "- λ2 = 452.89 (24.7% de la varianza)\n",
      "- λ3 = 235.74 (12.9% de la varianza)\n",
      "\n",
      "Vectores propios correspondientes:\n",
      "- v1 = [0.976, -0.142, 0.165]\n",
      "- v2 = [-0.185, -0.142, 0.972]\n",
      "- v3 = [0.115, 0.980, 0.165]\n",
      "\n",
      "Interpretación:\n",
      "La variable que más aporta a la variabilidad es: Temperatura\n",
      "Con una contribución de 0.976 en el primer componente principal\n",
      "El primer componente explica el 62.4% de la varianza total\n"
     ]
    }
   ],
   "source": [
    "# Calcular varianza de temperatura para cada sensor\n",
    "varianzas_temp = np.var(D_limpio[:, :, 0], axis=1)\n",
    "sensor_max_var = np.argmax(varianzas_temp)\n",
    "\n",
    "print(f\"Sensor con mayor varianza en temperatura: Sensor {sensor_max_var}\")\n",
    "print(f\"Varianza: {varianzas_temp[sensor_max_var]:.2f}\")\n",
    "\n",
    "# Datos del sensor con mayor varianza\n",
    "datos_sensor = D_limpio[sensor_max_var, :, :].T  # Transponer para tener variables en filas\n",
    "\n",
    "# Calcular matriz de covarianza\n",
    "matriz_cov = np.cov(datos_sensor)\n",
    "print(\"Matriz de covarianza:\")\n",
    "print(matriz_cov)\n",
    "\n",
    "# Descomposición en valores y vectores propios\n",
    "valores_propios, vectores_propios = np.linalg.eig(matriz_cov)\n",
    "\n",
    "# Ordenar por valores propios descendentes\n",
    "indices_orden = np.argsort(valores_propios)[::-1]\n",
    "valores_propios = valores_propios[indices_orden]\n",
    "vectores_propios = vectores_propios[:, indices_orden]\n",
    "\n",
    "print(\"\\nValores propios (ordenados):\")\n",
    "for i, val in enumerate(valores_propios):\n",
    "    porcentaje = (val / np.sum(valores_propios)) * 100\n",
    "    print(f\"- λ{i+1} = {val:.2f} ({porcentaje:.1f}% de la varianza)\")\n",
    "\n",
    "print(\"\\nVectores propios correspondientes:\")\n",
    "for i in range(3):\n",
    "    print(f\"- v{i+1} = [{vectores_propios[0,i]:.3f}, {vectores_propios[1,i]:.3f}, {vectores_propios[2,i]:.3f}]\")\n",
    "\n",
    "# Interpretación\n",
    "print(\"\\nInterpretación:\")\n",
    "componente_principal = np.abs(vectores_propios[:, 0])\n",
    "var_principal = ['Temperatura', 'Presión', 'Humedad'][np.argmax(componente_principal)]\n",
    "print(f\"La variable que más aporta a la variabilidad es: {var_principal}\")\n",
    "print(f\"Con una contribución de {np.max(componente_principal):.3f} en el primer componente principal\")\n",
    "print(f\"El primer componente explica el {(valores_propios[0]/np.sum(valores_propios))*100:.1f}% de la varianza total\")"
   ]
  }
 ],
 "metadata": {
  "kernelspec": {
   "display_name": "Python 3",
   "language": "python",
   "name": "python3"
  },
  "language_info": {
   "codemirror_mode": {
    "name": "ipython",
    "version": 3
   },
   "file_extension": ".py",
   "mimetype": "text/x-python",
   "name": "python",
   "nbconvert_exporter": "python",
   "pygments_lexer": "ipython3",
   "version": "3.13.5"
  }
 },
 "nbformat": 4,
 "nbformat_minor": 5
}
