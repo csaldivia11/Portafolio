{
 "cells": [
  {
   "cell_type": "markdown",
   "id": "575a2009",
   "metadata": {},
   "source": [
    "# Actividad 3 - Módulo 3"
   ]
  },
  {
   "cell_type": "markdown",
   "id": "baf82e7b",
   "metadata": {},
   "source": [
    "## Configuración inicial"
   ]
  },
  {
   "cell_type": "code",
   "execution_count": 1,
   "id": "9989ebb7",
   "metadata": {},
   "outputs": [],
   "source": [
    "# Importamos librerías\n",
    "import pandas as pd\n",
    "import os\n",
    "import glob\n",
    "\n",
    "# Obtener la ruta del directorio donde está el script\n",
    "script_dir = os.getcwd()\n",
    "datos_dir = os.path.join(script_dir, \"datos\")"
   ]
  },
  {
   "cell_type": "markdown",
   "id": "87ea4a5e",
   "metadata": {},
   "source": [
    "## 1. Leer archivos CSV"
   ]
  },
  {
   "cell_type": "code",
   "execution_count": 2,
   "id": "21f9f719",
   "metadata": {},
   "outputs": [
    {
     "name": "stdout",
     "output_type": "stream",
     "text": [
      "CSV leído: clientes.csv\n"
     ]
    }
   ],
   "source": [
    "# Leer archivos CSV\n",
    "df_csv_list = []\n",
    "csv_files = []\n",
    "for file in glob.glob(os.path.join(datos_dir, \"*.csv\")):\n",
    "    df = pd.read_csv(file)\n",
    "    df_csv_list.append(df)\n",
    "    csv_files.append(os.path.basename(file))\n",
    "    print(f\"CSV leído: {os.path.basename(file)}\")\n",
    "\n",
    "# Concatenar CSV\n",
    "df_csv = pd.concat(df_csv_list, ignore_index=True) if df_csv_list else pd.DataFrame()"
   ]
  },
  {
   "cell_type": "markdown",
   "id": "b727c2ff",
   "metadata": {},
   "source": [
    "## 2. Leer archivos Excel"
   ]
  },
  {
   "cell_type": "code",
   "execution_count": 3,
   "id": "6a07d29d",
   "metadata": {},
   "outputs": [
    {
     "name": "stdout",
     "output_type": "stream",
     "text": [
      "Excel leído: ventas.xlsx\n"
     ]
    }
   ],
   "source": [
    "# Leer archivos Excel\n",
    "df_excel_list = []\n",
    "excel_files = []\n",
    "for file in glob.glob(os.path.join(datos_dir, \"*.xlsx\")) + glob.glob(os.path.join(datos_dir, \"*.xls\")):\n",
    "    df = pd.read_excel(file, sheet_name=0)\n",
    "    df_excel_list.append(df)\n",
    "    excel_files.append(os.path.basename(file))\n",
    "    print(f\"Excel leído: {os.path.basename(file)}\")\n",
    "\n",
    "# Concatenar Excel\n",
    "df_excel = pd.concat(df_excel_list, ignore_index=True) if df_excel_list else pd.DataFrame()"
   ]
  },
  {
   "cell_type": "markdown",
   "id": "9d0fe96b",
   "metadata": {},
   "source": [
    "## 3. Integra ambos DataFrames (CSV y Excel) en un solo DataFrame global"
   ]
  },
  {
   "cell_type": "code",
   "execution_count": 4,
   "id": "fd01f7ed",
   "metadata": {},
   "outputs": [
    {
     "data": {
      "text/html": [
       "<div>\n",
       "<style scoped>\n",
       "    .dataframe tbody tr th:only-of-type {\n",
       "        vertical-align: middle;\n",
       "    }\n",
       "\n",
       "    .dataframe tbody tr th {\n",
       "        vertical-align: top;\n",
       "    }\n",
       "\n",
       "    .dataframe thead th {\n",
       "        text-align: right;\n",
       "    }\n",
       "</style>\n",
       "<table border=\"1\" class=\"dataframe\">\n",
       "  <thead>\n",
       "    <tr style=\"text-align: right;\">\n",
       "      <th></th>\n",
       "      <th>id_cliente</th>\n",
       "      <th>nombre</th>\n",
       "      <th>edad</th>\n",
       "      <th>ciudad</th>\n",
       "      <th>correo</th>\n",
       "      <th>id_venta</th>\n",
       "      <th>producto</th>\n",
       "      <th>cantidad</th>\n",
       "      <th>monto</th>\n",
       "      <th>fecha</th>\n",
       "      <th>vendedor</th>\n",
       "    </tr>\n",
       "  </thead>\n",
       "  <tbody>\n",
       "    <tr>\n",
       "      <th>0</th>\n",
       "      <td>1</td>\n",
       "      <td>Pedro Martínez</td>\n",
       "      <td>46.0</td>\n",
       "      <td>La Paz</td>\n",
       "      <td>pedro.martínez61@gmail.com</td>\n",
       "      <td>NaN</td>\n",
       "      <td>NaN</td>\n",
       "      <td>NaN</td>\n",
       "      <td>NaN</td>\n",
       "      <td>NaN</td>\n",
       "      <td>NaN</td>\n",
       "    </tr>\n",
       "    <tr>\n",
       "      <th>1</th>\n",
       "      <td>2</td>\n",
       "      <td>Pedro Silva</td>\n",
       "      <td>36.0</td>\n",
       "      <td>Caracas</td>\n",
       "      <td>pedro.silva75@outlook.com</td>\n",
       "      <td>NaN</td>\n",
       "      <td>NaN</td>\n",
       "      <td>NaN</td>\n",
       "      <td>NaN</td>\n",
       "      <td>NaN</td>\n",
       "      <td>NaN</td>\n",
       "    </tr>\n",
       "    <tr>\n",
       "      <th>2</th>\n",
       "      <td>3</td>\n",
       "      <td>Lucía Sánchez</td>\n",
       "      <td>53.0</td>\n",
       "      <td>La Paz</td>\n",
       "      <td>lucía.sánchez24@outlook.com</td>\n",
       "      <td>NaN</td>\n",
       "      <td>NaN</td>\n",
       "      <td>NaN</td>\n",
       "      <td>NaN</td>\n",
       "      <td>NaN</td>\n",
       "      <td>NaN</td>\n",
       "    </tr>\n",
       "    <tr>\n",
       "      <th>3</th>\n",
       "      <td>4</td>\n",
       "      <td>María Sánchez</td>\n",
       "      <td>19.0</td>\n",
       "      <td>La Paz</td>\n",
       "      <td>maría.sánchez30@yahoo.com</td>\n",
       "      <td>NaN</td>\n",
       "      <td>NaN</td>\n",
       "      <td>NaN</td>\n",
       "      <td>NaN</td>\n",
       "      <td>NaN</td>\n",
       "      <td>NaN</td>\n",
       "    </tr>\n",
       "    <tr>\n",
       "      <th>4</th>\n",
       "      <td>5</td>\n",
       "      <td>Ana Sánchez</td>\n",
       "      <td>50.0</td>\n",
       "      <td>Asunción</td>\n",
       "      <td>ana.sánchez22@gmail.com</td>\n",
       "      <td>NaN</td>\n",
       "      <td>NaN</td>\n",
       "      <td>NaN</td>\n",
       "      <td>NaN</td>\n",
       "      <td>NaN</td>\n",
       "      <td>NaN</td>\n",
       "    </tr>\n",
       "  </tbody>\n",
       "</table>\n",
       "</div>"
      ],
      "text/plain": [
       "   id_cliente          nombre  edad    ciudad                       correo  \\\n",
       "0           1  Pedro Martínez  46.0    La Paz   pedro.martínez61@gmail.com   \n",
       "1           2     Pedro Silva  36.0   Caracas    pedro.silva75@outlook.com   \n",
       "2           3   Lucía Sánchez  53.0    La Paz  lucía.sánchez24@outlook.com   \n",
       "3           4   María Sánchez  19.0    La Paz    maría.sánchez30@yahoo.com   \n",
       "4           5     Ana Sánchez  50.0  Asunción      ana.sánchez22@gmail.com   \n",
       "\n",
       "   id_venta producto  cantidad  monto fecha vendedor  \n",
       "0       NaN      NaN       NaN    NaN   NaN      NaN  \n",
       "1       NaN      NaN       NaN    NaN   NaN      NaN  \n",
       "2       NaN      NaN       NaN    NaN   NaN      NaN  \n",
       "3       NaN      NaN       NaN    NaN   NaN      NaN  \n",
       "4       NaN      NaN       NaN    NaN   NaN      NaN  "
      ]
     },
     "execution_count": 4,
     "metadata": {},
     "output_type": "execute_result"
    }
   ],
   "source": [
    "# Integrar ambos dataframes\n",
    "df_global = pd.concat([df_csv, df_excel], ignore_index=True)\n",
    "df_global.head()"
   ]
  },
  {
   "cell_type": "markdown",
   "id": "1ee19d4e",
   "metadata": {},
   "source": [
    "## 4. Extrae una tabla de la web"
   ]
  },
  {
   "cell_type": "code",
   "execution_count": 5,
   "id": "ae0710da",
   "metadata": {},
   "outputs": [
    {
     "data": {
      "text/html": [
       "<div>\n",
       "<style scoped>\n",
       "    .dataframe tbody tr th:only-of-type {\n",
       "        vertical-align: middle;\n",
       "    }\n",
       "\n",
       "    .dataframe tbody tr th {\n",
       "        vertical-align: top;\n",
       "    }\n",
       "\n",
       "    .dataframe thead th {\n",
       "        text-align: right;\n",
       "    }\n",
       "</style>\n",
       "<table border=\"1\" class=\"dataframe\">\n",
       "  <thead>\n",
       "    <tr style=\"text-align: right;\">\n",
       "      <th></th>\n",
       "      <th>N.º</th>\n",
       "      <th>País (o territorio dependiente)</th>\n",
       "      <th>Proyección exponencial de la población al 1/7/2025[7]​</th>\n",
       "      <th>Total mun- dial (%)</th>\n",
       "      <th>Cambio medio anual (%)[8]​</th>\n",
       "      <th>Cambio absoluto anual promedio</th>\n",
       "      <th>Cambio medio abs. total anual (%)</th>\n",
       "      <th>Años para even- tual du- pli- ca- ción[9]​</th>\n",
       "      <th>Censo más reciente, última estimación oficial, proyección de la ONU o reloj de población nacional</th>\n",
       "      <th>Fecha de esta última cifra de población en particular (d/mm/aaaa)[10]​</th>\n",
       "      <th>Tipo[11]​</th>\n",
       "      <th>Enlace o hipervínculo (usualmente de tipo oficial) de esta última cifra de población</th>\n",
       "    </tr>\n",
       "  </thead>\n",
       "  <tbody>\n",
       "    <tr>\n",
       "      <th>0</th>\n",
       "      <td>1</td>\n",
       "      <td>India</td>\n",
       "      <td>1 417 492 000</td>\n",
       "      <td>1753</td>\n",
       "      <td>090</td>\n",
       "      <td>12 692 000</td>\n",
       "      <td>1520</td>\n",
       "      <td>78</td>\n",
       "      <td>1 417 492 000</td>\n",
       "      <td>1/07/2025</td>\n",
       "      <td>A</td>\n",
       "      <td>web.archive.org</td>\n",
       "    </tr>\n",
       "    <tr>\n",
       "      <th>1</th>\n",
       "      <td>2</td>\n",
       "      <td>China[12]​</td>\n",
       "      <td>1 407 934 000</td>\n",
       "      <td>1742</td>\n",
       "      <td>-005</td>\n",
       "      <td>-1 390 000</td>\n",
       "      <td>-</td>\n",
       "      <td>-</td>\n",
       "      <td>1 408 280 000</td>\n",
       "      <td>31/12/2024</td>\n",
       "      <td>E</td>\n",
       "      <td>www.stats.gov.cn</td>\n",
       "    </tr>\n",
       "    <tr>\n",
       "      <th>2</th>\n",
       "      <td>3</td>\n",
       "      <td>Estados Unidos</td>\n",
       "      <td>342 181 000</td>\n",
       "      <td>423</td>\n",
       "      <td>061</td>\n",
       "      <td>2 084 000</td>\n",
       "      <td>250</td>\n",
       "      <td>114</td>\n",
       "      <td>342 050 000</td>\n",
       "      <td>3/07/2025</td>\n",
       "      <td>R</td>\n",
       "      <td>www.census.gov</td>\n",
       "    </tr>\n",
       "    <tr>\n",
       "      <th>3</th>\n",
       "      <td>4</td>\n",
       "      <td>Indonesia</td>\n",
       "      <td>285 783 000</td>\n",
       "      <td>353</td>\n",
       "      <td>117</td>\n",
       "      <td>3 337 000</td>\n",
       "      <td>400</td>\n",
       "      <td>60</td>\n",
       "      <td>282 477 584</td>\n",
       "      <td>30/06/2024</td>\n",
       "      <td>E</td>\n",
       "      <td>dispendukcapil.acehtimurkab.go.id</td>\n",
       "    </tr>\n",
       "    <tr>\n",
       "      <th>4</th>\n",
       "      <td>5</td>\n",
       "      <td>Pakistán</td>\n",
       "      <td>256 204 000</td>\n",
       "      <td>317</td>\n",
       "      <td>256</td>\n",
       "      <td>6 567 000</td>\n",
       "      <td>786</td>\n",
       "      <td>27</td>\n",
       "      <td>241 499 431</td>\n",
       "      <td>1/03/2023</td>\n",
       "      <td>C</td>\n",
       "      <td>www.pbs.gov.pk</td>\n",
       "    </tr>\n",
       "  </tbody>\n",
       "</table>\n",
       "</div>"
      ],
      "text/plain": [
       "  N.º País (o territorio dependiente)  \\\n",
       "0   1                           India   \n",
       "1   2                      China[12]​   \n",
       "2   3                  Estados Unidos   \n",
       "3   4                       Indonesia   \n",
       "4   5                        Pakistán   \n",
       "\n",
       "  Proyección exponencial de la población al 1/7/2025[7]​ Total mun- dial (%)  \\\n",
       "0                                      1 417 492 000                    1753   \n",
       "1                                      1 407 934 000                    1742   \n",
       "2                                        342 181 000                     423   \n",
       "3                                        285 783 000                     353   \n",
       "4                                        256 204 000                     317   \n",
       "\n",
       "  Cambio medio anual (%)[8]​ Cambio absoluto anual promedio  \\\n",
       "0                        090                     12 692 000   \n",
       "1                       -005                     -1 390 000   \n",
       "2                        061                      2 084 000   \n",
       "3                        117                      3 337 000   \n",
       "4                        256                      6 567 000   \n",
       "\n",
       "  Cambio medio abs. total anual (%)  \\\n",
       "0                              1520   \n",
       "1                                 -   \n",
       "2                               250   \n",
       "3                               400   \n",
       "4                               786   \n",
       "\n",
       "  Años para even- tual du- pli- ca- ción[9]​  \\\n",
       "0                                         78   \n",
       "1                                          -   \n",
       "2                                        114   \n",
       "3                                         60   \n",
       "4                                         27   \n",
       "\n",
       "  Censo más reciente, última estimación oficial, proyección de la ONU o reloj de población nacional  \\\n",
       "0                                      1 417 492 000                                                  \n",
       "1                                      1 408 280 000                                                  \n",
       "2                                        342 050 000                                                  \n",
       "3                                        282 477 584                                                  \n",
       "4                                        241 499 431                                                  \n",
       "\n",
       "  Fecha de esta última cifra de población en particular (d/mm/aaaa)[10]​  \\\n",
       "0                                          1/07/2025                       \n",
       "1                                         31/12/2024                       \n",
       "2                                          3/07/2025                       \n",
       "3                                         30/06/2024                       \n",
       "4                                          1/03/2023                       \n",
       "\n",
       "  Tipo[11]​  \\\n",
       "0         A   \n",
       "1         E   \n",
       "2         R   \n",
       "3         E   \n",
       "4         C   \n",
       "\n",
       "  Enlace o hipervínculo (usualmente de tipo oficial) de esta última cifra de población  \n",
       "0                                    web.archive.org                                    \n",
       "1                                   www.stats.gov.cn                                    \n",
       "2                                     www.census.gov                                    \n",
       "3                  dispendukcapil.acehtimurkab.go.id                                    \n",
       "4                                     www.pbs.gov.pk                                    "
      ]
     },
     "execution_count": 5,
     "metadata": {},
     "output_type": "execute_result"
    }
   ],
   "source": [
    "# Extraer tabla desde la web\n",
    "url = \"https://es.wikipedia.org/wiki/Anexo:Pa%C3%ADses_y_territorios_dependientes_por_poblaci%C3%B3n\"\n",
    "tables = pd.read_html(url)\n",
    "df_web = tables[0]\n",
    "df_web.head()"
   ]
  },
  {
   "cell_type": "markdown",
   "id": "56de0f27",
   "metadata": {},
   "source": [
    "## 5. Genera una hoja resumen con estadísticas descriptivas básicas"
   ]
  },
  {
   "cell_type": "code",
   "execution_count": 6,
   "id": "8c041c32",
   "metadata": {},
   "outputs": [],
   "source": [
    "# Crear resumen\n",
    "if not df_global.empty:\n",
    "    df_resumen = df_global.describe()\n",
    "else:\n",
    "    df_resumen = pd.DataFrame({'Mensaje': ['No hay datos para analizar']})"
   ]
  },
  {
   "cell_type": "markdown",
   "id": "c5ee42ca",
   "metadata": {},
   "source": [
    "## 6. Exporta los resultados"
   ]
  },
  {
   "cell_type": "code",
   "execution_count": 7,
   "id": "c194a2e3",
   "metadata": {},
   "outputs": [
    {
     "name": "stdout",
     "output_type": "stream",
     "text": [
      "Archivo consolidado_resultados.xlsx creado\n"
     ]
    }
   ],
   "source": [
    "# Exportar a Excel\n",
    "output_file = os.path.join(script_dir, \"consolidado_resultados.xlsx\")\n",
    "with pd.ExcelWriter(output_file, engine='openpyxl') as writer:\n",
    "    df_csv.to_excel(writer, sheet_name='Datos_CSV', index=False)\n",
    "    df_excel.to_excel(writer, sheet_name='Datos_Excel', index=False)\n",
    "    df_resumen.to_excel(writer, sheet_name='Resumen')\n",
    "    df_web.to_excel(writer, sheet_name='Web', index=False)\n",
    "\n",
    "print(\"Archivo consolidado_resultados.xlsx creado\")"
   ]
  },
  {
   "cell_type": "markdown",
   "id": "4840dd16",
   "metadata": {},
   "source": [
    "## 7. Documentación\n",
    "---\n",
    "### 1. Descripción\n",
    "Script de Python que automatiza la extracción, integración y consolidación de datos desde archivos CSV, Excel y web en un único archivo Excel con múltiples hojas.\n",
    "\n",
    "---\n",
    "### 2. Funcionamiento\n",
    "El script genera un archivo `consolidado_resultados.xlsx` con 4 hojas:\n",
    "- **Datos_CSV**: Todos los archivos CSV combinados\n",
    "- **Datos_Excel**: Todos los archivos Excel combinados\n",
    "- **Resumen**: Estadísticas descriptivas del conjunto de datos\n",
    "- **Web**: Tabla de países por población de Wikipedia\n",
    "\n",
    "---\n",
    "### 3. Notas\n",
    "- El script busca archivos en la carpeta `datos/` relativa a su ubicación\n",
    "- Lee solo la primera hoja de cada archivo Excel\n",
    "- Requiere conexión a internet para la extracción de datos web\n",
    "- Los archivos CSV y Excel deben tener estructura compatible para concatenarse correctamente"
   ]
  }
 ],
 "metadata": {
  "kernelspec": {
   "display_name": "Python 3",
   "language": "python",
   "name": "python3"
  },
  "language_info": {
   "codemirror_mode": {
    "name": "ipython",
    "version": 3
   },
   "file_extension": ".py",
   "mimetype": "text/x-python",
   "name": "python",
   "nbconvert_exporter": "python",
   "pygments_lexer": "ipython3",
   "version": "3.13.5"
  }
 },
 "nbformat": 4,
 "nbformat_minor": 5
}
